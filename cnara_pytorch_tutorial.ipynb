{
 "cells": [
  {
   "cell_type": "markdown",
   "metadata": {},
   "source": [
    "<h3>Pytorch Tensors</h3>"
   ]
  },
  {
   "cell_type": "code",
   "execution_count": null,
   "metadata": {},
   "outputs": [],
   "source": [
    "import torch\n",
    "import numpy as np"
   ]
  },
  {
   "cell_type": "code",
   "execution_count": null,
   "metadata": {},
   "outputs": [
    {
     "data": {
      "text/plain": [
       "tensor([[1, 2, 3],\n",
       "        [4, 5, 6],\n",
       "        [7, 8, 9]])"
      ]
     },
     "metadata": {},
     "output_type": "display_data"
    }
   ],
   "source": [
    "data = [[1,2,3],[4,5,6],[7,8,9]]\n",
    "x_data = torch.tensor(data)\n",
    "x_data"
   ]
  },
  {
   "cell_type": "code",
   "execution_count": null,
   "metadata": {},
   "outputs": [
    {
     "data": {
      "text/plain": [
       "tensor([[1, 2, 3],\n",
       "        [4, 5, 6],\n",
       "        [7, 8, 9]])"
      ]
     },
     "metadata": {},
     "output_type": "display_data"
    }
   ],
   "source": [
    "np_array = np.array(data)\n",
    "x_np = torch.from_numpy(np_array)\n",
    "x_np"
   ]
  },
  {
   "cell_type": "code",
   "execution_count": null,
   "metadata": {},
   "outputs": [
    {
     "data": {
      "text/plain": [
       "tensor([[1., 1.],\n",
       "        [1., 1.],\n",
       "        [1., 1.],\n",
       "        [1., 1.],\n",
       "        [1., 1.]])"
      ]
     },
     "metadata": {},
     "output_type": "display_data"
    }
   ],
   "source": [
    "ones = torch.ones(5,2)\n",
    "ones"
   ]
  },
  {
   "cell_type": "code",
   "execution_count": null,
   "metadata": {},
   "outputs": [
    {
     "data": {
      "text/plain": [
       "tensor([[1, 1, 1],\n",
       "        [1, 1, 1],\n",
       "        [1, 1, 1]])"
      ]
     },
     "metadata": {},
     "output_type": "display_data"
    }
   ],
   "source": [
    "x_ones = torch.ones_like(x_data)\n",
    "x_ones "
   ]
  },
  {
   "cell_type": "code",
   "execution_count": null,
   "metadata": {},
   "outputs": [
    {
     "data": {
      "text/plain": [
       "tensor([[0.0360, 0.1363, 0.2694],\n",
       "        [0.3111, 0.6995, 0.7167],\n",
       "        [0.1132, 0.2085, 0.5073]])"
      ]
     },
     "metadata": {},
     "output_type": "display_data"
    }
   ],
   "source": [
    "x_rand = torch.rand_like(x_data, dtype=torch.float)\n",
    "x_rand"
   ]
  },
  {
   "cell_type": "code",
   "execution_count": null,
   "metadata": {},
   "outputs": [
    {
     "name": "stdout",
     "output_type": "stream",
     "text": [
      "tensor([[0.5301, 0.0884, 0.4063, 0.7508, 0.6356, 0.5637, 0.2235, 0.6683],\n",
      "        [0.3889, 0.4524, 0.2905, 0.5679, 0.9221, 0.9667, 0.5055, 0.3380],\n",
      "        [0.5436, 0.7307, 0.8849, 0.6951, 0.3288, 0.5692, 0.6157, 0.9702],\n",
      "        [0.2294, 0.3809, 0.3547, 0.4012, 0.5073, 0.3220, 0.2583, 0.0835],\n",
      "        [0.0258, 0.3830, 0.2986, 0.2676, 0.6240, 0.5756, 0.9359, 0.3525],\n",
      "        [0.1911, 0.7012, 0.4673, 0.3165, 0.0249, 0.1466, 0.8365, 0.2162],\n",
      "        [0.2012, 0.5197, 0.8660, 0.1616, 0.0772, 0.7767, 0.5138, 0.2026]])\n",
      "tensor([[0., 0., 0., 0., 0., 0., 0., 0.],\n",
      "        [0., 0., 0., 0., 0., 0., 0., 0.],\n",
      "        [0., 0., 0., 0., 0., 0., 0., 0.],\n",
      "        [0., 0., 0., 0., 0., 0., 0., 0.],\n",
      "        [0., 0., 0., 0., 0., 0., 0., 0.],\n",
      "        [0., 0., 0., 0., 0., 0., 0., 0.],\n",
      "        [0., 0., 0., 0., 0., 0., 0., 0.]])\n",
      "tensor([[1., 1., 1., 1., 1., 1., 1., 1.],\n",
      "        [1., 1., 1., 1., 1., 1., 1., 1.],\n",
      "        [1., 1., 1., 1., 1., 1., 1., 1.],\n",
      "        [1., 1., 1., 1., 1., 1., 1., 1.],\n",
      "        [1., 1., 1., 1., 1., 1., 1., 1.],\n",
      "        [1., 1., 1., 1., 1., 1., 1., 1.],\n",
      "        [1., 1., 1., 1., 1., 1., 1., 1.]])\n"
     ]
    }
   ],
   "source": [
    "shape = (7,8)\n",
    "print(torch.rand(shape))\n",
    "print(torch.zeros(shape))\n",
    "print(torch.ones(shape))"
   ]
  },
  {
   "cell_type": "markdown",
   "metadata": {},
   "source": [
    "<h3>Tensor Attributes</h3>"
   ]
  },
  {
   "cell_type": "code",
   "execution_count": null,
   "metadata": {},
   "outputs": [],
   "source": [
    "tensor = torch.rand(4,9)"
   ]
  },
  {
   "cell_type": "code",
   "execution_count": null,
   "metadata": {},
   "outputs": [
    {
     "data": {
      "text/plain": [
       "(torch.Size([4, 9]), torch.float32, device(type='cpu'))"
      ]
     },
     "metadata": {},
     "output_type": "display_data"
    }
   ],
   "source": [
    "tensor.shape, tensor.dtype, tensor.device"
   ]
  },
  {
   "cell_type": "code",
   "execution_count": null,
   "metadata": {},
   "outputs": [],
   "source": [
    "tensors = torch.ones(5,5)"
   ]
  },
  {
   "cell_type": "code",
   "execution_count": null,
   "metadata": {},
   "outputs": [
    {
     "name": "stdout",
     "output_type": "stream",
     "text": [
      "tensor([[1., 0., 1., 1., 1.],\n",
      "        [1., 0., 1., 1., 1.],\n",
      "        [1., 0., 1., 1., 1.],\n",
      "        [1., 0., 1., 1., 1.],\n",
      "        [1., 0., 1., 1., 1.]])\n"
     ]
    }
   ],
   "source": [
    "tensors[:,1:2] = 0\n",
    "print(tensors)"
   ]
  },
  {
   "cell_type": "code",
   "execution_count": null,
   "metadata": {},
   "outputs": [
    {
     "name": "stdout",
     "output_type": "stream",
     "text": [
      "tensor([[1., 0., 1., 1., 1., 1., 0., 1., 1., 1.],\n",
      "        [1., 0., 1., 1., 1., 1., 0., 1., 1., 1.],\n",
      "        [1., 0., 1., 1., 1., 1., 0., 1., 1., 1.],\n",
      "        [1., 0., 1., 1., 1., 1., 0., 1., 1., 1.],\n",
      "        [1., 0., 1., 1., 1., 1., 0., 1., 1., 1.]])\n"
     ]
    }
   ],
   "source": [
    "tensor_concat = torch.cat([tensors,tensors],dim=1)\n",
    "print(tensor_concat)"
   ]
  },
  {
   "cell_type": "code",
   "execution_count": null,
   "metadata": {},
   "outputs": [
    {
     "name": "stdout",
     "output_type": "stream",
     "text": [
      "tensor([[0.8848, 0.1697, 0.8192, 0.2757, 0.3841],\n",
      "        [0.6140, 0.1724, 0.2270, 0.8092, 0.9788],\n",
      "        [0.0093, 0.4870, 0.6755, 0.5210, 0.2421],\n",
      "        [0.5236, 0.6710, 0.2976, 0.8782, 0.5991],\n",
      "        [0.4213, 0.5058, 0.7795, 0.1081, 0.7733]])\n"
     ]
    }
   ],
   "source": [
    "tensors_random = torch.rand_like(tensors)\n",
    "print(tensors_random)"
   ]
  },
  {
   "cell_type": "code",
   "execution_count": null,
   "metadata": {},
   "outputs": [
    {
     "data": {
      "text/plain": [
       "tensor([[0.8848, 0.0000, 0.8192, 0.2757, 0.3841],\n",
       "        [0.6140, 0.0000, 0.2270, 0.8092, 0.9788],\n",
       "        [0.0093, 0.0000, 0.6755, 0.5210, 0.2421],\n",
       "        [0.5236, 0.0000, 0.2976, 0.8782, 0.5991],\n",
       "        [0.4213, 0.0000, 0.7795, 0.1081, 0.7733]])"
      ]
     },
     "metadata": {},
     "output_type": "display_data"
    }
   ],
   "source": [
    "tensors.mul(tensors_random)"
   ]
  },
  {
   "cell_type": "code",
   "execution_count": null,
   "metadata": {},
   "outputs": [
    {
     "data": {
      "text/plain": [
       "tensor([[0.8848, 0.0000, 0.8192, 0.2757, 0.3841],\n",
       "        [0.6140, 0.0000, 0.2270, 0.8092, 0.9788],\n",
       "        [0.0093, 0.0000, 0.6755, 0.5210, 0.2421],\n",
       "        [0.5236, 0.0000, 0.2976, 0.8782, 0.5991],\n",
       "        [0.4213, 0.0000, 0.7795, 0.1081, 0.7733]])"
      ]
     },
     "metadata": {},
     "output_type": "display_data"
    }
   ],
   "source": [
    "tensors * tensors_random"
   ]
  },
  {
   "cell_type": "code",
   "execution_count": null,
   "metadata": {},
   "outputs": [
    {
     "data": {
      "text/plain": [
       "tensor([[1.8390, 1.8336, 2.5718, 1.7831, 1.9985],\n",
       "        [1.8390, 1.8336, 2.5718, 1.7831, 1.9985],\n",
       "        [1.8390, 1.8336, 2.5718, 1.7831, 1.9985],\n",
       "        [1.8390, 1.8336, 2.5718, 1.7831, 1.9985],\n",
       "        [1.8390, 1.8336, 2.5718, 1.7831, 1.9985]])"
      ]
     },
     "metadata": {},
     "output_type": "display_data"
    }
   ],
   "source": [
    "tensors.matmul(tensors_random)"
   ]
  },
  {
   "cell_type": "markdown",
   "metadata": {},
   "source": [
    "Matrix multiplication using tensors"
   ]
  },
  {
   "cell_type": "code",
   "execution_count": null,
   "metadata": {},
   "outputs": [
    {
     "data": {
      "text/plain": [
       "tensor([[4., 4., 4., 4., 4.],\n",
       "        [4., 4., 4., 4., 4.],\n",
       "        [4., 4., 4., 4., 4.],\n",
       "        [4., 4., 4., 4., 4.],\n",
       "        [4., 4., 4., 4., 4.]])"
      ]
     },
     "metadata": {},
     "output_type": "display_data"
    }
   ],
   "source": [
    "tensors @ tensors.T"
   ]
  },
  {
   "cell_type": "code",
   "execution_count": null,
   "metadata": {},
   "outputs": [
    {
     "data": {
      "text/plain": [
       "tensor([[1., 0., 1., 1., 1.],\n",
       "        [1., 0., 1., 1., 1.],\n",
       "        [1., 0., 1., 1., 1.],\n",
       "        [1., 0., 1., 1., 1.],\n",
       "        [1., 0., 1., 1., 1.]])"
      ]
     },
     "metadata": {},
     "output_type": "display_data"
    }
   ],
   "source": [
    "tensors"
   ]
  },
  {
   "cell_type": "markdown",
   "metadata": {},
   "source": [
    "Broadcasting features for tensors"
   ]
  },
  {
   "cell_type": "code",
   "execution_count": null,
   "metadata": {},
   "outputs": [
    {
     "data": {
      "text/plain": [
       "tensor([[6., 5., 6., 6., 6.],\n",
       "        [6., 5., 6., 6., 6.],\n",
       "        [6., 5., 6., 6., 6.],\n",
       "        [6., 5., 6., 6., 6.],\n",
       "        [6., 5., 6., 6., 6.]])"
      ]
     },
     "metadata": {},
     "output_type": "display_data"
    }
   ],
   "source": [
    "tensors.add(5)"
   ]
  },
  {
   "cell_type": "code",
   "execution_count": null,
   "metadata": {},
   "outputs": [
    {
     "data": {
      "text/plain": [
       "tensor([[1., 0., 1., 1., 1.],\n",
       "        [1., 0., 1., 1., 1.],\n",
       "        [1., 0., 1., 1., 1.],\n",
       "        [1., 0., 1., 1., 1.],\n",
       "        [1., 0., 1., 1., 1.]])"
      ]
     },
     "metadata": {},
     "output_type": "display_data"
    }
   ],
   "source": [
    "tensors"
   ]
  },
  {
   "cell_type": "code",
   "execution_count": null,
   "metadata": {},
   "outputs": [
    {
     "name": "stdout",
     "output_type": "stream",
     "text": [
      "[1. 1. 1. 1. 1.]\n"
     ]
    }
   ],
   "source": [
    "t = torch.ones(5)\n",
    "numpy_t = t.numpy()\n",
    "print(numpy_t)"
   ]
  },
  {
   "cell_type": "code",
   "execution_count": null,
   "metadata": {},
   "outputs": [
    {
     "data": {
      "text/plain": [
       "tensor([2., 2., 2., 2., 2.])"
      ]
     },
     "metadata": {},
     "output_type": "display_data"
    }
   ],
   "source": [
    "t.add_(1)"
   ]
  },
  {
   "cell_type": "code",
   "execution_count": null,
   "metadata": {},
   "outputs": [
    {
     "name": "stdout",
     "output_type": "stream",
     "text": [
      "[1. 1. 1. 1. 1. 1. 1. 1. 1. 1.] tensor([1., 1., 1., 1., 1., 1., 1., 1., 1., 1.], dtype=torch.float64)\n"
     ]
    }
   ],
   "source": [
    "n = np.ones(10)\n",
    "tensor_n = torch.from_numpy(n)\n",
    "print(n, tensor_n)"
   ]
  },
  {
   "cell_type": "code",
   "execution_count": null,
   "metadata": {},
   "outputs": [
    {
     "data": {
      "text/plain": [
       "array([2., 2., 2., 2., 2., 2., 2., 2., 2., 2.])"
      ]
     },
     "metadata": {},
     "output_type": "display_data"
    }
   ],
   "source": [
    "np.add(n,1,out=n)"
   ]
  },
  {
   "cell_type": "code",
   "execution_count": null,
   "metadata": {},
   "outputs": [
    {
     "data": {
      "text/plain": [
       "(tensor([2., 2., 2., 2., 2., 2., 2., 2., 2., 2.], dtype=torch.float64),\n",
       " array([2., 2., 2., 2., 2., 2., 2., 2., 2., 2.]))"
      ]
     },
     "metadata": {},
     "output_type": "display_data"
    }
   ],
   "source": [
    "tensor_n, n"
   ]
  },
  {
   "cell_type": "markdown",
   "metadata": {},
   "source": [
    "<h3>Torch Autograd</h3>"
   ]
  },
  {
   "cell_type": "code",
   "execution_count": null,
   "metadata": {},
   "outputs": [],
   "source": [
    "from torchvision.models import resnet18, ResNet18_Weights\n"
   ]
  },
  {
   "cell_type": "code",
   "execution_count": null,
   "metadata": {},
   "outputs": [],
   "source": [
    "model = resnet18(weights = ResNet18_Weights.DEFAULT)\n",
    "data = torch.rand(1,3,64,64) "
   ]
  },
  {
   "cell_type": "code",
   "execution_count": null,
   "metadata": {},
   "outputs": [
    {
     "data": {
      "text/plain": [
       "<bound method Module.parameters of ResNet(\n",
       "  (conv1): Conv2d(3, 64, kernel_size=(7, 7), stride=(2, 2), padding=(3, 3), bias=False)\n",
       "  (bn1): BatchNorm2d(64, eps=1e-05, momentum=0.1, affine=True, track_running_stats=True)\n",
       "  (relu): ReLU(inplace=True)\n",
       "  (maxpool): MaxPool2d(kernel_size=3, stride=2, padding=1, dilation=1, ceil_mode=False)\n",
       "  (layer1): Sequential(\n",
       "    (0): BasicBlock(\n",
       "      (conv1): Conv2d(64, 64, kernel_size=(3, 3), stride=(1, 1), padding=(1, 1), bias=False)\n",
       "      (bn1): BatchNorm2d(64, eps=1e-05, momentum=0.1, affine=True, track_running_stats=True)\n",
       "      (relu): ReLU(inplace=True)\n",
       "      (conv2): Conv2d(64, 64, kernel_size=(3, 3), stride=(1, 1), padding=(1, 1), bias=False)\n",
       "      (bn2): BatchNorm2d(64, eps=1e-05, momentum=0.1, affine=True, track_running_stats=True)\n",
       "    )\n",
       "    (1): BasicBlock(\n",
       "      (conv1): Conv2d(64, 64, kernel_size=(3, 3), stride=(1, 1), padding=(1, 1), bias=False)\n",
       "      (bn1): BatchNorm2d(64, eps=1e-05, momentum=0.1, affine=True, track_running_stats=True)\n",
       "      (relu): ReLU(inplace=True)\n",
       "      (conv2): Conv2d(64, 64, kernel_size=(3, 3), stride=(1, 1), padding=(1, 1), bias=False)\n",
       "      (bn2): BatchNorm2d(64, eps=1e-05, momentum=0.1, affine=True, track_running_stats=True)\n",
       "    )\n",
       "  )\n",
       "  (layer2): Sequential(\n",
       "    (0): BasicBlock(\n",
       "      (conv1): Conv2d(64, 128, kernel_size=(3, 3), stride=(2, 2), padding=(1, 1), bias=False)\n",
       "      (bn1): BatchNorm2d(128, eps=1e-05, momentum=0.1, affine=True, track_running_stats=True)\n",
       "      (relu): ReLU(inplace=True)\n",
       "      (conv2): Conv2d(128, 128, kernel_size=(3, 3), stride=(1, 1), padding=(1, 1), bias=False)\n",
       "      (bn2): BatchNorm2d(128, eps=1e-05, momentum=0.1, affine=True, track_running_stats=True)\n",
       "      (downsample): Sequential(\n",
       "        (0): Conv2d(64, 128, kernel_size=(1, 1), stride=(2, 2), bias=False)\n",
       "        (1): BatchNorm2d(128, eps=1e-05, momentum=0.1, affine=True, track_running_stats=True)\n",
       "      )\n",
       "    )\n",
       "    (1): BasicBlock(\n",
       "      (conv1): Conv2d(128, 128, kernel_size=(3, 3), stride=(1, 1), padding=(1, 1), bias=False)\n",
       "      (bn1): BatchNorm2d(128, eps=1e-05, momentum=0.1, affine=True, track_running_stats=True)\n",
       "      (relu): ReLU(inplace=True)\n",
       "      (conv2): Conv2d(128, 128, kernel_size=(3, 3), stride=(1, 1), padding=(1, 1), bias=False)\n",
       "      (bn2): BatchNorm2d(128, eps=1e-05, momentum=0.1, affine=True, track_running_stats=True)\n",
       "    )\n",
       "  )\n",
       "  (layer3): Sequential(\n",
       "    (0): BasicBlock(\n",
       "      (conv1): Conv2d(128, 256, kernel_size=(3, 3), stride=(2, 2), padding=(1, 1), bias=False)\n",
       "      (bn1): BatchNorm2d(256, eps=1e-05, momentum=0.1, affine=True, track_running_stats=True)\n",
       "      (relu): ReLU(inplace=True)\n",
       "      (conv2): Conv2d(256, 256, kernel_size=(3, 3), stride=(1, 1), padding=(1, 1), bias=False)\n",
       "      (bn2): BatchNorm2d(256, eps=1e-05, momentum=0.1, affine=True, track_running_stats=True)\n",
       "      (downsample): Sequential(\n",
       "        (0): Conv2d(128, 256, kernel_size=(1, 1), stride=(2, 2), bias=False)\n",
       "        (1): BatchNorm2d(256, eps=1e-05, momentum=0.1, affine=True, track_running_stats=True)\n",
       "      )\n",
       "    )\n",
       "    (1): BasicBlock(\n",
       "      (conv1): Conv2d(256, 256, kernel_size=(3, 3), stride=(1, 1), padding=(1, 1), bias=False)\n",
       "      (bn1): BatchNorm2d(256, eps=1e-05, momentum=0.1, affine=True, track_running_stats=True)\n",
       "      (relu): ReLU(inplace=True)\n",
       "      (conv2): Conv2d(256, 256, kernel_size=(3, 3), stride=(1, 1), padding=(1, 1), bias=False)\n",
       "      (bn2): BatchNorm2d(256, eps=1e-05, momentum=0.1, affine=True, track_running_stats=True)\n",
       "    )\n",
       "  )\n",
       "  (layer4): Sequential(\n",
       "    (0): BasicBlock(\n",
       "      (conv1): Conv2d(256, 512, kernel_size=(3, 3), stride=(2, 2), padding=(1, 1), bias=False)\n",
       "      (bn1): BatchNorm2d(512, eps=1e-05, momentum=0.1, affine=True, track_running_stats=True)\n",
       "      (relu): ReLU(inplace=True)\n",
       "      (conv2): Conv2d(512, 512, kernel_size=(3, 3), stride=(1, 1), padding=(1, 1), bias=False)\n",
       "      (bn2): BatchNorm2d(512, eps=1e-05, momentum=0.1, affine=True, track_running_stats=True)\n",
       "      (downsample): Sequential(\n",
       "        (0): Conv2d(256, 512, kernel_size=(1, 1), stride=(2, 2), bias=False)\n",
       "        (1): BatchNorm2d(512, eps=1e-05, momentum=0.1, affine=True, track_running_stats=True)\n",
       "      )\n",
       "    )\n",
       "    (1): BasicBlock(\n",
       "      (conv1): Conv2d(512, 512, kernel_size=(3, 3), stride=(1, 1), padding=(1, 1), bias=False)\n",
       "      (bn1): BatchNorm2d(512, eps=1e-05, momentum=0.1, affine=True, track_running_stats=True)\n",
       "      (relu): ReLU(inplace=True)\n",
       "      (conv2): Conv2d(512, 512, kernel_size=(3, 3), stride=(1, 1), padding=(1, 1), bias=False)\n",
       "      (bn2): BatchNorm2d(512, eps=1e-05, momentum=0.1, affine=True, track_running_stats=True)\n",
       "    )\n",
       "  )\n",
       "  (avgpool): AdaptiveAvgPool2d(output_size=(1, 1))\n",
       "  (fc): Linear(in_features=512, out_features=1000, bias=True)\n",
       ")>"
      ]
     },
     "metadata": {},
     "output_type": "display_data"
    }
   ],
   "source": [
    "model.parameters"
   ]
  },
  {
   "cell_type": "code",
   "execution_count": null,
   "metadata": {},
   "outputs": [
    {
     "data": {
      "text/plain": [
       "tensor([[0.5370, 0.3318, 0.4636, 0.7671, 0.4933, 0.5326, 0.7109, 0.0718, 0.4187,\n",
       "         0.7857, 0.4830, 0.1493, 0.2678, 0.6568, 0.3405, 0.9450, 0.6008, 0.5948,\n",
       "         0.9213, 0.2924, 0.0018, 0.3045, 0.0074, 0.2921, 0.2885, 0.9028, 0.7879,\n",
       "         0.9109, 0.1788, 0.3250, 0.6898, 0.5933, 0.9197, 0.0542, 0.6702, 0.8644,\n",
       "         0.5975, 0.7216, 0.1478, 0.3307, 0.9074, 0.2282, 0.3089, 0.2036, 0.8277,\n",
       "         0.4528, 0.9807, 0.0551, 0.1745, 0.1861, 0.1940, 0.9750, 0.2540, 0.6436,\n",
       "         0.1900, 0.6659, 0.5878, 0.7586, 0.3927, 0.2858, 0.6726, 0.7015, 0.0467,\n",
       "         0.8278, 0.8231, 0.8245, 0.2722, 0.9394, 0.0080, 0.8505, 0.8477, 0.3765,\n",
       "         0.5871, 0.0633, 0.3664, 0.2829, 0.8717, 0.6943, 0.7734, 0.8840, 0.1772,\n",
       "         0.7584, 0.7769, 0.4836, 0.2551, 0.6442, 0.8091, 0.8838, 0.8926, 0.2149,\n",
       "         0.8990, 0.0115, 0.0216, 0.9845, 0.0425, 0.4746, 0.9127, 0.4430, 0.6331,\n",
       "         0.5284, 0.3761, 0.2658, 0.3418, 0.7745, 0.3897, 0.6772, 0.3716, 0.7165,\n",
       "         0.1394, 0.3114, 0.3378, 0.3457, 0.8606, 0.9344, 0.1270, 0.5473, 0.9636,\n",
       "         0.9541, 0.0754, 0.0636, 0.1098, 0.1611, 0.3917, 0.8888, 0.8918, 0.0063,\n",
       "         0.9562, 0.5529, 0.3520, 0.8377, 0.1114, 0.4383, 0.3675, 0.1993, 0.0449,\n",
       "         0.2813, 0.8506, 0.5868, 0.4209, 0.8760, 0.6985, 0.8756, 0.2483, 0.2609,\n",
       "         0.4801, 0.3914, 0.2775, 0.2406, 0.2134, 0.2964, 0.9952, 0.2520, 0.9519,\n",
       "         0.8033, 0.4339, 0.0522, 0.0646, 0.4045, 0.1194, 0.1406, 0.8608, 0.8813,\n",
       "         0.3419, 0.8752, 0.5206, 0.3405, 0.8495, 0.5573, 0.3595, 0.9940, 0.5548,\n",
       "         0.5475, 0.1281, 0.2154, 0.8557, 0.5325, 0.9425, 0.8856, 0.9376, 0.1848,\n",
       "         0.8412, 0.7495, 0.0903, 0.8680, 0.7994, 0.1207, 0.7932, 0.4777, 0.3714,\n",
       "         0.9460, 0.5093, 0.6872, 0.9673, 0.6499, 0.3445, 0.9771, 0.9350, 0.5051,\n",
       "         0.5424, 0.7465, 0.0588, 0.6792, 0.8975, 0.1900, 0.2357, 0.1080, 0.0804,\n",
       "         0.0073, 0.4156, 0.9334, 0.8799, 0.2355, 0.3926, 0.0448, 0.1364, 0.0046,\n",
       "         0.7927, 0.2237, 0.0210, 0.0172, 0.0436, 0.3766, 0.3347, 0.0977, 0.6976,\n",
       "         0.5973, 0.6753, 0.2152, 0.0416, 0.5483, 0.4370, 0.4840, 0.5587, 0.2881,\n",
       "         0.6499, 0.3117, 0.6163, 0.2097, 0.0960, 0.8115, 0.6053, 0.9743, 0.9073,\n",
       "         0.5904, 0.4956, 0.6287, 0.0834, 0.0198, 0.9817, 0.8719, 0.8693, 0.8843,\n",
       "         0.4543, 0.4276, 0.7899, 0.5847, 0.4357, 0.9174, 0.0221, 0.4735, 0.9358,\n",
       "         0.1526, 0.2688, 0.7674, 0.8475, 0.1766, 0.5369, 0.1275, 0.1152, 0.7712,\n",
       "         0.4549, 0.4394, 0.6209, 0.6233, 0.9982, 0.7329, 0.7009, 0.5538, 0.5700,\n",
       "         0.1364, 0.8705, 0.1301, 0.4436, 0.6453, 0.3186, 0.2965, 0.9875, 0.1522,\n",
       "         0.4142, 0.4948, 0.8230, 0.5569, 0.2805, 0.3592, 0.1225, 0.3610, 0.9931,\n",
       "         0.5452, 0.3276, 0.9296, 0.5153, 0.3748, 0.7772, 0.0633, 0.6899, 0.0748,\n",
       "         0.9618, 0.1992, 0.9243, 0.9634, 0.2401, 0.0271, 0.8992, 0.8743, 0.9437,\n",
       "         0.5052, 0.5443, 0.6022, 0.8154, 0.1587, 0.0496, 0.6570, 0.1768, 0.7463,\n",
       "         0.9634, 0.1726, 0.0481, 0.0221, 0.8815, 0.9753, 0.5680, 0.8284, 0.2445,\n",
       "         0.8998, 0.8912, 0.7259, 0.1570, 0.1905, 0.4329, 0.0131, 0.7965, 0.6025,\n",
       "         0.4424, 0.4710, 0.7600, 0.2119, 0.1397, 0.9836, 0.7597, 0.1300, 0.1229,\n",
       "         0.1621, 0.3984, 0.0719, 0.4776, 0.4861, 0.7927, 0.5746, 0.3543, 0.9205,\n",
       "         0.1822, 0.3371, 0.7284, 0.8845, 0.1218, 0.3694, 0.0840, 0.4671, 0.0580,\n",
       "         0.1814, 0.2147, 0.7793, 0.5778, 0.1335, 0.5597, 0.0350, 0.1730, 0.5335,\n",
       "         0.1517, 0.8977, 0.9715, 0.8527, 0.8050, 0.6680, 0.4475, 0.8218, 0.4728,\n",
       "         0.1818, 0.5877, 0.2453, 0.5150, 0.0994, 0.0929, 0.9759, 0.5679, 0.7837,\n",
       "         0.9988, 0.6725, 0.5921, 0.1160, 0.4010, 0.3122, 0.6336, 0.0253, 0.7193,\n",
       "         0.0767, 0.0264, 0.2305, 0.5187, 0.7615, 0.5912, 0.8723, 0.0329, 0.0281,\n",
       "         0.0795, 0.0015, 0.2121, 0.8983, 0.6646, 0.2457, 0.3140, 0.3558, 0.7728,\n",
       "         0.5218, 0.0979, 0.1905, 0.3277, 0.2936, 0.0867, 0.7063, 0.1842, 0.8978,\n",
       "         0.5792, 0.8897, 0.1404, 0.5867, 0.9854, 0.4897, 0.6755, 0.3686, 0.8643,\n",
       "         0.0207, 0.8213, 0.2723, 0.7717, 0.8415, 0.6134, 0.4717, 0.2893, 0.5670,\n",
       "         0.8153, 0.4619, 0.3258, 0.5802, 0.7634, 0.3710, 0.8977, 0.7762, 0.7199,\n",
       "         0.4066, 0.3357, 0.1261, 0.7133, 0.1218, 0.8216, 0.2814, 0.1802, 0.9610,\n",
       "         0.1128, 0.2668, 0.6526, 0.8276, 0.4824, 0.7851, 0.7144, 0.9085, 0.3657,\n",
       "         0.5585, 0.3815, 0.4470, 0.0605, 0.6830, 0.3740, 0.8752, 0.8183, 0.0169,\n",
       "         0.3066, 0.0882, 0.7064, 0.1303, 0.5813, 0.2099, 0.8924, 0.0352, 0.4893,\n",
       "         0.2938, 0.5710, 0.8111, 0.3430, 0.8853, 0.7745, 0.8031, 0.7784, 0.4215,\n",
       "         0.3554, 0.6792, 0.7367, 0.4795, 0.4086, 0.7453, 0.5453, 0.0854, 0.6890,\n",
       "         0.8311, 0.9751, 0.8836, 0.7792, 0.2625, 0.7086, 0.2327, 0.6045, 0.2105,\n",
       "         0.1092, 0.4523, 0.3228, 0.8889, 0.6878, 0.6704, 0.8008, 0.5476, 0.4108,\n",
       "         0.9281, 0.1390, 0.2469, 0.7592, 0.0279, 0.0227, 0.8566, 0.7035, 0.0585,\n",
       "         0.0769, 0.2424, 0.1777, 0.6892, 0.8194, 0.6177, 0.3766, 0.8586, 0.4787,\n",
       "         0.1874, 0.0776, 0.3000, 0.7244, 0.1474, 0.4971, 0.3017, 0.8865, 0.1945,\n",
       "         0.4235, 0.7066, 0.4146, 0.8715, 0.2643, 0.3681, 0.7551, 0.0628, 0.4485,\n",
       "         0.1461, 0.1759, 0.2373, 0.5923, 0.3522, 0.0692, 0.9408, 0.8999, 0.9749,\n",
       "         0.6008, 0.1970, 0.5780, 0.9853, 0.0733, 0.5054, 0.7080, 0.9603, 0.0154,\n",
       "         0.9444, 0.4569, 0.6774, 0.3469, 0.0919, 0.5532, 0.6150, 0.8845, 0.7392,\n",
       "         0.0966, 0.9323, 0.0440, 0.3076, 0.7269, 0.1514, 0.7961, 0.9257, 0.5379,\n",
       "         0.4422, 0.1070, 0.0403, 0.6616, 0.0684, 0.0696, 0.3546, 0.1011, 0.4237,\n",
       "         0.6374, 0.1498, 0.8390, 0.3692, 0.3363, 0.8157, 0.6070, 0.7695, 0.5145,\n",
       "         0.4879, 0.0786, 0.5987, 0.8640, 0.0617, 0.6631, 0.7472, 0.0384, 0.5192,\n",
       "         0.6010, 0.0805, 0.8943, 0.1533, 0.2223, 0.6628, 0.9705, 0.4293, 0.1993,\n",
       "         0.1613, 0.6620, 0.9340, 0.8514, 0.9424, 0.8940, 0.3772, 0.7193, 0.1671,\n",
       "         0.7982, 0.2490, 0.3246, 0.0344, 0.3619, 0.1219, 0.4461, 0.0487, 0.3175,\n",
       "         0.9794, 0.5736, 0.4608, 0.2523, 0.1555, 0.0364, 0.2548, 0.2076, 0.1229,\n",
       "         0.9653, 0.0748, 0.4747, 0.5069, 0.5645, 0.8609, 0.8928, 0.8705, 0.3231,\n",
       "         0.5293, 0.6570, 0.1811, 0.5744, 0.6215, 0.5228, 0.2378, 0.8037, 0.1372,\n",
       "         0.7547, 0.7233, 0.7496, 0.0888, 0.4810, 0.5525, 0.2900, 0.3400, 0.9625,\n",
       "         0.8280, 0.4314, 0.6559, 0.4435, 0.2842, 0.1688, 0.8777, 0.3979, 0.8227,\n",
       "         0.1261, 0.7439, 0.5336, 0.0170, 0.1457, 0.9168, 0.4985, 0.7601, 0.0626,\n",
       "         0.2778, 0.0956, 0.8414, 0.5114, 0.8013, 0.2386, 0.0339, 0.0417, 0.1593,\n",
       "         0.3714, 0.7607, 0.5904, 0.9796, 0.0207, 0.6301, 0.3037, 0.0407, 0.8585,\n",
       "         0.1062, 0.0046, 0.2571, 0.2256, 0.2494, 0.8796, 0.9966, 0.6888, 0.3291,\n",
       "         0.4027, 0.2420, 0.6841, 0.4908, 0.3407, 0.6213, 0.3615, 0.2848, 0.6294,\n",
       "         0.4576, 0.9294, 0.1140, 0.2089, 0.0817, 0.6249, 0.0645, 0.4115, 0.1071,\n",
       "         0.0655, 0.6959, 0.2600, 0.6692, 0.9182, 0.8352, 0.6022, 0.7234, 0.7438,\n",
       "         0.2511, 0.4325, 0.3220, 0.1143, 0.7141, 0.1738, 0.4178, 0.3095, 0.8666,\n",
       "         0.7766, 0.4716, 0.7692, 0.0882, 0.1962, 0.4286, 0.4354, 0.8052, 0.3431,\n",
       "         0.5925, 0.0825, 0.7229, 0.1578, 0.3119, 0.6272, 0.1368, 0.3004, 0.6958,\n",
       "         0.3544, 0.7832, 0.8930, 0.6252, 0.5275, 0.3004, 0.0769, 0.1552, 0.2640,\n",
       "         0.5732, 0.3721, 0.3347, 0.8022, 0.5538, 0.3336, 0.1442, 0.0175, 0.8134,\n",
       "         0.0190, 0.9522, 0.1763, 0.6482, 0.3665, 0.0046, 0.1025, 0.5363, 0.8770,\n",
       "         0.8756, 0.4282, 0.7075, 0.1141, 0.4420, 0.9939, 0.3990, 0.3776, 0.5231,\n",
       "         0.3560, 0.5571, 0.0676, 0.6206, 0.4838, 0.7433, 0.1592, 0.2287, 0.5786,\n",
       "         0.8362, 0.3430, 0.4156, 0.1415, 0.7313, 0.0679, 0.4242, 0.2083, 0.0642,\n",
       "         0.8753, 0.0405, 0.0532, 0.2250, 0.8797, 0.2170, 0.5705, 0.7095, 0.4162,\n",
       "         0.0442, 0.8863, 0.6247, 0.1619, 0.3797, 0.4964, 0.7091, 0.3099, 0.7417,\n",
       "         0.3030, 0.0550, 0.5365, 0.0522, 0.2334, 0.3773, 0.5177, 0.3591, 0.4753,\n",
       "         0.5084, 0.9031, 0.5714, 0.6706, 0.4475, 0.0284, 0.0309, 0.2837, 0.2267,\n",
       "         0.7497, 0.0840, 0.8618, 0.3469, 0.7785, 0.1335, 0.8970, 0.3160, 0.7909,\n",
       "         0.8683, 0.6258, 0.3665, 0.2573, 0.5012, 0.9194, 0.8860, 0.6652, 0.2986,\n",
       "         0.7467, 0.9480, 0.2682, 0.4585, 0.6859, 0.5082, 0.5029, 0.9956, 0.4153,\n",
       "         0.5790, 0.0859, 0.1671, 0.3461, 0.4202, 0.2646, 0.7164, 0.9703, 0.6554,\n",
       "         0.1738, 0.5882, 0.9113, 0.5899, 0.2527, 0.6181, 0.7630, 0.2010, 0.0431,\n",
       "         0.1185, 0.3790, 0.5078, 0.1413, 0.7159, 0.4842, 0.9119, 0.1557, 0.5509,\n",
       "         0.8213, 0.2517, 0.9641, 0.7385, 0.8164, 0.1375, 0.4589, 0.1388, 0.1559,\n",
       "         0.9325, 0.9231, 0.3448, 0.6119, 0.3952, 0.9945, 0.8334, 0.4992, 0.9152,\n",
       "         0.2389, 0.2203, 0.6868, 0.3825, 0.0313, 0.9474, 0.9982, 0.2067, 0.9777,\n",
       "         0.3203, 0.7361, 0.7967, 0.7214, 0.6772, 0.0057, 0.3487, 0.0853, 0.7256,\n",
       "         0.8718, 0.3707, 0.7802, 0.4074, 0.2312, 0.2274, 0.8162, 0.1432, 0.5340,\n",
       "         0.2491, 0.3978, 0.6544, 0.4339, 0.0652, 0.2673, 0.8441, 0.3010, 0.5831,\n",
       "         0.7087, 0.5850, 0.6932, 0.7022, 0.8291, 0.1644, 0.7065, 0.9685, 0.6989,\n",
       "         0.3357]])"
      ]
     },
     "metadata": {},
     "output_type": "display_data"
    }
   ],
   "source": [
    "labels = torch.rand(1,1000)\n",
    "labels"
   ]
  },
  {
   "cell_type": "code",
   "execution_count": null,
   "metadata": {},
   "outputs": [],
   "source": [
    "predict = model(data)"
   ]
  },
  {
   "cell_type": "code",
   "execution_count": null,
   "metadata": {},
   "outputs": [
    {
     "data": {
      "text/plain": [
       "torch.Size([1, 1000])"
      ]
     },
     "metadata": {},
     "output_type": "display_data"
    }
   ],
   "source": [
    "predict.shape"
   ]
  },
  {
   "cell_type": "code",
   "execution_count": null,
   "metadata": {},
   "outputs": [
    {
     "data": {
      "text/plain": [
       "tensor(-487.7869, grad_fn=<SumBackward0>)"
      ]
     },
     "metadata": {},
     "output_type": "display_data"
    }
   ],
   "source": [
    "loss = (predict - labels).sum()\n",
    "loss"
   ]
  },
  {
   "cell_type": "code",
   "execution_count": null,
   "metadata": {},
   "outputs": [],
   "source": [
    "loss.backward() "
   ]
  },
  {
   "cell_type": "code",
   "execution_count": null,
   "metadata": {},
   "outputs": [],
   "source": [
    "optim = torch.optim.SGD(model.parameters(),lr = 1e-2, momentum = 0.9)"
   ]
  },
  {
   "cell_type": "code",
   "execution_count": null,
   "metadata": {},
   "outputs": [],
   "source": [
    "optim.step() "
   ]
  },
  {
   "cell_type": "code",
   "execution_count": null,
   "metadata": {},
   "outputs": [
    {
     "name": "stdout",
     "output_type": "stream",
     "text": [
      "tensor(-2.)\n",
      "tensor(0.)\n"
     ]
    }
   ],
   "source": [
    "x = torch.tensor(1.0)\n",
    "y = torch.tensor(2.0)\n",
    "w = torch.tensor(1.0,requires_grad=True)\n",
    "y_hat = w * x\n",
    "loss = (y_hat - y) ** 2\n",
    "loss.backward()\n",
    "print(w.grad)\n",
    "w.grad.zero_()\n",
    "print(w.grad)"
   ]
  },
  {
   "cell_type": "markdown",
   "metadata": {},
   "source": [
    "<h3>Neural Network Training using Pytorch</h3>"
   ]
  },
  {
   "cell_type": "code",
   "execution_count": null,
   "metadata": {},
   "outputs": [
    {
     "name": "stdout",
     "output_type": "stream",
     "text": [
      "Net(\n",
      "  (conv1): Conv2d(1, 6, kernel_size=(5, 5), stride=(1, 1))\n",
      "  (conv2): Conv2d(6, 16, kernel_size=(5, 5), stride=(1, 1))\n",
      "  (fc1): Linear(in_features=400, out_features=100, bias=True)\n",
      "  (fc2): Linear(in_features=100, out_features=84, bias=True)\n",
      "  (fc3): Linear(in_features=84, out_features=10, bias=True)\n",
      ")\n"
     ]
    }
   ],
   "source": [
    "import torch\n",
    "import torch.nn as nn\n",
    "import torch.nn.functional as F\n",
    "class Net(nn.Module):\n",
    "    def __init__(self):\n",
    "        super(Net, self).__init__()\n",
    "        self.conv1 = nn.Conv2d(1, 6, 5)\n",
    "        self.conv2 = nn.Conv2d(6, 16, 5)\n",
    "        self.fc1 = nn.Linear(16 * 5 * 5, 100)\n",
    "        self.fc2 = nn.Linear(100, 84)\n",
    "        self.fc3 = nn.Linear(84, 10)\n",
    "    def forward(self, x):\n",
    "        x = F.max_pool2d(F.relu(self.conv1(x)), (2, 2))\n",
    "        x = F.max_pool2d(F.relu(self.conv2(x)), 2)\n",
    "        x = torch.flatten(x, 1)\n",
    "        x = F.relu(self.fc1(x))\n",
    "        x = F.elu(self.fc2(x))\n",
    "        x = F.tanh(self.fc3(x))\n",
    "\n",
    "        return x\n",
    "\n",
    "\n",
    "net = Net()\n",
    "print(net)"
   ]
  },
  {
   "cell_type": "code",
   "execution_count": null,
   "metadata": {},
   "outputs": [
    {
     "name": "stdout",
     "output_type": "stream",
     "text": [
      "10\n",
      "torch.Size([6, 1, 5, 5])\n"
     ]
    }
   ],
   "source": [
    "params = list(net.parameters())\n",
    "print(len(params))\n",
    "print(params[0].size())"
   ]
  },
  {
   "cell_type": "code",
   "execution_count": null,
   "metadata": {},
   "outputs": [
    {
     "name": "stdout",
     "output_type": "stream",
     "text": [
      "tensor([[ 0.0905, -0.0156,  0.0284,  0.1118,  0.0318,  0.1115, -0.0553,  0.0079,\n",
      "          0.1331, -0.1428]], grad_fn=<TanhBackward0>)\n"
     ]
    }
   ],
   "source": [
    "input = torch.randn(1, 1, 32, 32)\n",
    "out = net(input)\n",
    "print(out)"
   ]
  },
  {
   "cell_type": "code",
   "execution_count": null,
   "metadata": {},
   "outputs": [],
   "source": [
    "net.zero_grad()\n",
    "out.backward(torch.randn(1, 10))"
   ]
  },
  {
   "cell_type": "code",
   "execution_count": null,
   "metadata": {},
   "outputs": [
    {
     "name": "stdout",
     "output_type": "stream",
     "text": [
      "tensor(0.8061, grad_fn=<MseLossBackward0>)\n"
     ]
    }
   ],
   "source": [
    "output = net(input)\n",
    "target = torch.randn(10)\n",
    "target = target.view(1, -1)\n",
    "criterion = nn.MSELoss()\n",
    "loss = criterion(output, target)\n",
    "print(loss)"
   ]
  },
  {
   "cell_type": "code",
   "execution_count": null,
   "metadata": {},
   "outputs": [
    {
     "name": "stdout",
     "output_type": "stream",
     "text": [
      "<MseLossBackward0 object at 0x131256ce0>\n",
      "<TanhBackward0 object at 0x131257850>\n",
      "<AddmmBackward0 object at 0x131256ce0>\n"
     ]
    }
   ],
   "source": [
    "print(loss.grad_fn)\n",
    "print(loss.grad_fn.next_functions[0][0])\n",
    "print(loss.grad_fn.next_functions[0][0].next_functions[0][0])"
   ]
  },
  {
   "cell_type": "code",
   "execution_count": null,
   "metadata": {},
   "outputs": [
    {
     "name": "stdout",
     "output_type": "stream",
     "text": [
      "conv1.bias.grad before backward\n",
      "None\n",
      "conv1.bias.grad after backward\n",
      "tensor([-0.0041, -0.0121,  0.0009,  0.0004,  0.0090,  0.0088])\n"
     ]
    }
   ],
   "source": [
    "net.zero_grad()\n",
    "\n",
    "print('conv1.bias.grad before backward')\n",
    "print(net.conv1.bias.grad)\n",
    "\n",
    "loss.backward()\n",
    "\n",
    "print('conv1.bias.grad after backward')\n",
    "print(net.conv1.bias.grad)"
   ]
  },
  {
   "cell_type": "code",
   "execution_count": null,
   "metadata": {},
   "outputs": [],
   "source": [
    "learning_rate = 0.01\n",
    "for f in net.parameters():\n",
    "    f.data.sub_(f.grad.data * learning_rate)"
   ]
  },
  {
   "cell_type": "code",
   "execution_count": null,
   "metadata": {},
   "outputs": [],
   "source": [
    "import torch.optim as optim\n",
    "optimizer = optim.Adadelta(net.parameters(), lr=0.0001)\n",
    "\n",
    "optimizer.zero_grad() \n",
    "output = net(input)\n",
    "loss = criterion(output, target)\n",
    "loss.backward()\n",
    "optimizer.step() "
   ]
  },
  {
   "cell_type": "markdown",
   "metadata": {},
   "source": [
    "<h3>Training a classifier with NEURAL NETWORKS</h3>"
   ]
  },
  {
   "cell_type": "code",
   "execution_count": null,
   "metadata": {},
   "outputs": [],
   "source": [
    "import torch\n",
    "import torchvision\n",
    "import torchvision.transforms as transforms"
   ]
  },
  {
   "cell_type": "code",
   "execution_count": null,
   "metadata": {},
   "outputs": [
    {
     "name": "stdout",
     "output_type": "stream",
     "text": [
      "Files already downloaded and verified\n",
      "Files already downloaded and verified\n"
     ]
    }
   ],
   "source": [
    "transform = transforms.Compose(\n",
    "    [transforms.ToTensor(),\n",
    "     transforms.Normalize((0.5, 0.5, 0.5), (0.5, 0.5, 0.5))])\n",
    "batch_size = 4\n",
    "trainset = torchvision.datasets.CIFAR10(root='./data', train=True,\n",
    "                                        download=True, transform=transform)\n",
    "trainloader = torch.utils.data.DataLoader(trainset, batch_size=batch_size,\n",
    "                                          shuffle=True, num_workers=2)\n",
    "testset = torchvision.datasets.CIFAR10(root='./data', train=False,\n",
    "                                       download=True, transform=transform)\n",
    "testloader = torch.utils.data.DataLoader(testset, batch_size=batch_size,\n",
    "                                         shuffle=False, num_workers=2)\n",
    "classes = ('plane', 'car', 'bird', 'cat',\n",
    "           'deer', 'dog', 'frog', 'horse', 'ship', 'truck')"
   ]
  },
  {
   "cell_type": "code",
   "execution_count": null,
   "metadata": {},
   "outputs": [
    {
     "data": {
      "image/png": "[encoded data removed]",
      "text/plain": [
       "<Figure size 640x480 with 1 Axes>"
      ]
     },
     "metadata": {},
     "output_type": "display_data"
    },
    {
     "name": "stdout",
     "output_type": "stream",
     "text": [
      "plane car   plane ship \n"
     ]
    }
   ],
   "source": [
    "import matplotlib.pyplot as plt\n",
    "import numpy as np\n",
    "def imshow(img):\n",
    "    img = img / 2 + 0.5\n",
    "    npimg = img.numpy()\n",
    "    plt.imshow(np.transpose(npimg, (1, 2, 0)))\n",
    "    plt.show()\n",
    "dataiter = iter(trainloader)\n",
    "images, labels = next(dataiter)\n",
    "imshow(torchvision.utils.make_grid(images))\n",
    "print(' '.join(f'{classes[labels[j]]:5s}' for j in range(batch_size)))"
   ]
  },
  {
   "cell_type": "code",
   "execution_count": null,
   "metadata": {},
   "outputs": [],
   "source": [
    "import torch.nn as nn\n",
    "import torch.nn.functional as F\n",
    "\n",
    "\n",
    "class Net(nn.Module):\n",
    "    def __init__(self):\n",
    "        super().__init__()\n",
    "        self.conv1 = nn.Conv2d(3, 6, 5)\n",
    "        self.pool = nn.MaxPool2d(2, 2)\n",
    "        self.conv2 = nn.Conv2d(6, 16, 5)\n",
    "        self.fc1 = nn.Linear(16 * 5 * 5, 120)\n",
    "        self.fc2 = nn.Linear(120, 84)\n",
    "        self.fc3 = nn.Linear(84, 10)\n",
    "        self.fc4 = nn.Sigmoid()\n",
    "\n",
    "    def forward(self, x):\n",
    "        x = self.pool(F.relu(self.conv1(x)))\n",
    "        x = self.pool(F.relu(self.conv2(x)))\n",
    "        x = torch.flatten(x, 1)\n",
    "        x = F.relu(self.fc1(x))\n",
    "        x = F.relu(self.fc2(x))\n",
    "        x = F.selu(self.fc3(x))\n",
    "        x = self.fc4(x)\n",
    "        return x\n",
    "\n",
    "\n",
    "net = Net()"
   ]
  },
  {
   "cell_type": "code",
   "execution_count": null,
   "metadata": {},
   "outputs": [],
   "source": [
    "import torch.optim as optim\n",
    "\n",
    "criterion = nn.CrossEntropyLoss()\n",
    "optimizers = []\n",
    "optimizers.append(optim.SGD(net.parameters(), lr=1e-7))\n",
    "optimizers.append(optim.Adam(net.parameters(), lr=1e-3))\n",
    "optimizers.append(optim.Adamax(net.parameters(), lr=1e-2))"
   ]
  },
  {
   "cell_type": "code",
   "execution_count": null,
   "metadata": {},
   "outputs": [
    {
     "name": "stdout",
     "output_type": "stream",
     "text": [
      "--------------------------------------\n",
      "RUNNING WITH OPTIMIZER: SGD (\n",
      "Parameter Group 0\n",
      "    dampening: 0\n",
      "    differentiable: False\n",
      "    foreach: None\n",
      "    lr: 1e-07\n",
      "    maximize: False\n",
      "    momentum: 0\n",
      "    nesterov: False\n",
      "    weight_decay: 0\n",
      ")\n",
      "--------------------------------------\n",
      "[1,  2000] loss: 2.303\n",
      "[1,  4000] loss: 2.303\n",
      "[1,  6000] loss: 2.303\n",
      "[1,  8000] loss: 2.303\n",
      "[1, 10000] loss: 2.303\n",
      "[1, 12000] loss: 2.302\n",
      "[2,  2000] loss: 2.303\n",
      "[2,  4000] loss: 2.303\n",
      "[2,  6000] loss: 2.303\n",
      "[2,  8000] loss: 2.303\n",
      "[2, 10000] loss: 2.303\n",
      "[2, 12000] loss: 2.303\n",
      "Finished Training\n"
     ]
    },
    {
     "data": {
      "image/png": "[encoded data removed]",
      "text/plain": [
       "<Figure size 640x480 with 1 Axes>"
      ]
     },
     "metadata": {},
     "output_type": "display_data"
    },
    {
     "name": "stdout",
     "output_type": "stream",
     "text": [
      "GroundTruth:  cat   ship  ship  plane\n",
      "Calculating Accuracy...\n",
      "Accuracy of the network on the 10000 test images: 9 %\n",
      "--------------------------------------\n",
      "RUNNING WITH OPTIMIZER: Adam (\n",
      "Parameter Group 0\n",
      "    amsgrad: False\n",
      "    betas: (0.9, 0.999)\n",
      "    capturable: False\n",
      "    differentiable: False\n",
      "    eps: 1e-08\n",
      "    foreach: None\n",
      "    fused: None\n",
      "    lr: 0.001\n",
      "    maximize: False\n",
      "    weight_decay: 0\n",
      ")\n",
      "--------------------------------------\n",
      "[1,  2000] loss: 2.137\n",
      "[1,  4000] loss: 2.054\n",
      "[1,  6000] loss: 2.031\n",
      "[1,  8000] loss: 2.023\n",
      "[1, 10000] loss: 2.023\n",
      "[1, 12000] loss: 2.014\n",
      "[2,  2000] loss: 2.011\n",
      "[2,  4000] loss: 2.037\n",
      "[2,  6000] loss: 2.031\n",
      "[2,  8000] loss: 2.030\n",
      "[2, 10000] loss: 2.022\n",
      "[2, 12000] loss: 2.083\n",
      "Finished Training\n"
     ]
    },
    {
     "data": {
      "image/png": "[encoded data removed]",
      "text/plain": [
       "<Figure size 640x480 with 1 Axes>"
      ]
     },
     "metadata": {},
     "output_type": "display_data"
    },
    {
     "name": "stdout",
     "output_type": "stream",
     "text": [
      "GroundTruth:  cat   ship  ship  plane\n",
      "Calculating Accuracy...\n",
      "Accuracy of the network on the 10000 test images: 22 %\n",
      "--------------------------------------\n",
      "RUNNING WITH OPTIMIZER: Adamax (\n",
      "Parameter Group 0\n",
      "    betas: (0.9, 0.999)\n",
      "    differentiable: False\n",
      "    eps: 1e-08\n",
      "    foreach: None\n",
      "    lr: 0.01\n",
      "    maximize: False\n",
      "    weight_decay: 0\n",
      ")\n",
      "--------------------------------------\n",
      "[1,  2000] loss: 2.114\n",
      "[1,  4000] loss: 2.118\n",
      "[1,  6000] loss: 2.070\n",
      "[1,  8000] loss: 2.080\n",
      "[1, 10000] loss: 2.091\n",
      "[1, 12000] loss: 2.066\n",
      "[2,  2000] loss: 2.057\n",
      "[2,  4000] loss: 2.081\n",
      "[2,  6000] loss: 2.140\n",
      "[2,  8000] loss: 2.147\n",
      "[2, 10000] loss: 2.147\n",
      "[2, 12000] loss: 2.165\n",
      "Finished Training\n"
     ]
    },
    {
     "data": {
      "image/png": "[encoded data removed]",
      "text/plain": [
       "<Figure size 640x480 with 1 Axes>"
      ]
     },
     "metadata": {},
     "output_type": "display_data"
    },
    {
     "name": "stdout",
     "output_type": "stream",
     "text": [
      "GroundTruth:  cat   ship  ship  plane\n",
      "Calculating Accuracy...\n",
      "Accuracy of the network on the 10000 test images: 18 %\n"
     ]
    }
   ],
   "source": [
    "for optimizer in optimizers:\n",
    "    print('--------------------------------------')\n",
    "    print(f'RUNNING WITH OPTIMIZER: {optimizer}')\n",
    "    print('--------------------------------------')\n",
    "    for epoch in range(2):\n",
    "        running_loss = 0.0\n",
    "        for i, data in enumerate(trainloader, 0):\n",
    "            inputs, labels = data\n",
    "            optimizer.zero_grad()\n",
    "            outputs = net(inputs)\n",
    "            loss = criterion(outputs, labels)\n",
    "            loss.backward()\n",
    "            optimizer.step()\n",
    "            running_loss += loss.item()\n",
    "            if i % 2000 == 1999:   \n",
    "                print(f'[{epoch + 1}, {i + 1:5d}] loss: {running_loss / 2000:.3f}')\n",
    "                running_loss = 0.0\n",
    "    print('Finished Training')\n",
    "    PATH = './cifar_net.pth'\n",
    "    torch.save(net.state_dict(), PATH)\n",
    "    dataiter = iter(testloader)\n",
    "    images, labels = next(dataiter)\n",
    "    imshow(torchvision.utils.make_grid(images))\n",
    "    print('GroundTruth: ', ' '.join(f'{classes[labels[j]]:5s}' for j in range(4)))\n",
    "    print('Calculating Accuracy...')\n",
    "    correct = 0\n",
    "    total = 0\n",
    "    with torch.no_grad():\n",
    "        for data in testloader:\n",
    "            images, labels = data\n",
    "            outputs = net(images)\n",
    "            _, predicted = torch.max(outputs.data, 1)\n",
    "            total += labels.size(0)\n",
    "            correct += (predicted == labels).sum().item()\n",
    "\n",
    "    print(f'Accuracy of the network on the 10000 test images: {100 * correct // total} %',end='\\n')\n",
    "        "
   ]
  },
  {
   "cell_type": "markdown",
   "metadata": {},
   "source": [
    "<h3>Optimizing Hyper parameters using Optuna</h3>"
   ]
  },
  {
   "cell_type": "code",
   "execution_count": null,
   "metadata": {},
   "outputs": [
    {
     "name": "stdout",
     "output_type": "stream",
     "text": [
      "Requirement already satisfied: torch in /Users/charankumarnara/anaconda3/lib/python3.11/site-packages (2.0.1)\n",
      "Requirement already satisfied: torchvision in /Users/charankumarnara/anaconda3/lib/python3.11/site-packages (0.15.2)\n",
      "Requirement already satisfied: optuna in /Users/charankumarnara/anaconda3/lib/python3.11/site-packages (3.3.0)\n",
      "Requirement already satisfied: filelock in /Users/charankumarnara/anaconda3/lib/python3.11/site-packages (from torch) (3.9.0)\n",
      "Requirement already satisfied: typing-extensions in /Users/charankumarnara/anaconda3/lib/python3.11/site-packages (from torch) (4.7.1)\n",
      "Requirement already satisfied: sympy in /Users/charankumarnara/anaconda3/lib/python3.11/site-packages (from torch) (1.11.1)\n",
      "Requirement already satisfied: networkx in /Users/charankumarnara/anaconda3/lib/python3.11/site-packages (from torch) (3.1)\n",
      "Requirement already satisfied: jinja2 in /Users/charankumarnara/anaconda3/lib/python3.11/site-packages (from torch) (3.1.2)\n",
      "Requirement already satisfied: numpy in /Users/charankumarnara/anaconda3/lib/python3.11/site-packages (from torchvision) (1.24.3)\n",
      "Requirement already satisfied: requests in /Users/charankumarnara/anaconda3/lib/python3.11/site-packages (from torchvision) (2.31.0)\n",
      "Requirement already satisfied: pillow!=8.3.*,>=5.3.0 in /Users/charankumarnara/anaconda3/lib/python3.11/site-packages (from torchvision) (9.4.0)\n",
      "Requirement already satisfied: alembic>=1.5.0 in /Users/charankumarnara/anaconda3/lib/python3.11/site-packages (from optuna) (1.12.0)\n",
      "Requirement already satisfied: cmaes>=0.10.0 in /Users/charankumarnara/anaconda3/lib/python3.11/site-packages (from optuna) (0.10.0)\n",
      "Requirement already satisfied: colorlog in /Users/charankumarnara/anaconda3/lib/python3.11/site-packages (from optuna) (6.7.0)\n",
      "Requirement already satisfied: packaging>=20.0 in /Users/charankumarnara/anaconda3/lib/python3.11/site-packages (from optuna) (23.0)\n",
      "Requirement already satisfied: sqlalchemy>=1.3.0 in /Users/charankumarnara/anaconda3/lib/python3.11/site-packages (from optuna) (1.4.39)\n",
      "Requirement already satisfied: tqdm in /Users/charankumarnara/anaconda3/lib/python3.11/site-packages (from optuna) (4.65.0)\n",
      "Requirement already satisfied: PyYAML in /Users/charankumarnara/anaconda3/lib/python3.11/site-packages (from optuna) (6.0)\n",
      "Requirement already satisfied: Mako in /Users/charankumarnara/anaconda3/lib/python3.11/site-packages (from alembic>=1.5.0->optuna) (1.2.4)\n",
      "Requirement already satisfied: MarkupSafe>=2.0 in /Users/charankumarnara/anaconda3/lib/python3.11/site-packages (from jinja2->torch) (2.1.1)\n",
      "Requirement already satisfied: charset-normalizer<4,>=2 in /Users/charankumarnara/anaconda3/lib/python3.11/site-packages (from requests->torchvision) (2.0.4)\n",
      "Requirement already satisfied: idna<4,>=2.5 in /Users/charankumarnara/anaconda3/lib/python3.11/site-packages (from requests->torchvision) (3.4)\n",
      "Requirement already satisfied: urllib3<3,>=1.21.1 in /Users/charankumarnara/anaconda3/lib/python3.11/site-packages (from requests->torchvision) (1.26.16)\n",
      "Requirement already satisfied: certifi>=2017.4.17 in /Users/charankumarnara/anaconda3/lib/python3.11/site-packages (from requests->torchvision) (2023.7.22)\n",
      "Requirement already satisfied: mpmath>=0.19 in /Users/charankumarnara/anaconda3/lib/python3.11/site-packages (from sympy->torch) (1.3.0)\n"
     ]
    }
   ],
   "source": [
    "import optuna as opt\n",
    "!pip install torch torchvision optuna"
   ]
  },
  {
   "cell_type": "code",
   "execution_count": null,
   "metadata": {},
   "outputs": [],
   "source": [
    "\n",
    "class Net(nn.Module):\n",
    "    def __init__(self, trial):\n",
    "        super().__init__()\n",
    "        self.conv1 = nn.Conv2d(3, 6, 5)\n",
    "        self.pool = nn.MaxPool2d(2, 2)\n",
    "        self.conv2 = nn.Conv2d(6, 16, 5)\n",
    "        self.fc1 = nn.Linear(16 * 5 * 5, 120)\n",
    "        self.fc2 = nn.Linear(120, trial.suggest_int('fc2_layer_units', 16, 128))\n",
    "        self.fc3 = nn.Linear(self.fc2.out_features, 10)\n",
    "        self.fc4 = nn.Sigmoid()\n",
    "\n",
    "    def forward(self, x):\n",
    "        x = self.pool(F.relu(self.conv1(x)))\n",
    "        x = self.pool(F.relu(self.conv2(x)))\n",
    "        x = torch.flatten(x, 1)\n",
    "        x = F.relu(self.fc1(x))\n",
    "        x = F.relu(self.fc2(x))\n",
    "        x = F.selu(self.fc3(x))\n",
    "        x = self.fc4(x)\n",
    "        return x\n",
    "\n"
   ]
  },
  {
   "cell_type": "markdown",
   "metadata": {},
   "source": [
    "Calculating accuracy for train dataset"
   ]
  },
  {
   "cell_type": "code",
   "execution_count": null,
   "metadata": {},
   "outputs": [
    {
     "name": "stderr",
     "output_type": "stream",
     "text": [
      "[I 2023-10-02 23:23:17,102] A new study created in memory with name: no-name-805c9b57-7405-4e0c-a104-0692a75dfb06\n",
      "[I 2023-10-02 23:24:50,954] Trial 0 finished with value: 0.0997 and parameters: {'fc2_layer_units': 16, 'lr': 1.533697915531749e-06}. Best is trial 0 with value: 0.0997.\n",
      "[I 2023-10-02 23:26:26,321] Trial 1 finished with value: 0.1 and parameters: {'fc2_layer_units': 85, 'lr': 1.0915983666775151e-07}. Best is trial 1 with value: 0.1.\n",
      "[I 2023-10-02 23:28:03,805] Trial 2 finished with value: 0.3662 and parameters: {'fc2_layer_units': 67, 'lr': 0.0002772424663138127}. Best is trial 2 with value: 0.3662.\n"
     ]
    },
    {
     "name": "stdout",
     "output_type": "stream",
     "text": [
      "Number of trials:  3\n",
      "Best trial:\n",
      "Value: 0.3662\n",
      "Params: \n",
      "\tfc2_layer_units: 67\n",
      "\tlr: 0.0002772424663138127\n",
      "Best accuracy: 36.620000000000005\n"
     ]
    }
   ],
   "source": [
    "def objective_train(trial):\n",
    "    net = Net(trial)\n",
    "    criterion = nn.CrossEntropyLoss()\n",
    "    optimizer = optim.Adamax(net.parameters(), lr=trial.suggest_float('lr', 1e-7, 1e-1, log=True))\n",
    "    for epoch in range(2):\n",
    "        for i, data in enumerate(trainloader, 0):\n",
    "            inputs, labels = data\n",
    "            optimizer.zero_grad()\n",
    "            outputs = net(inputs)\n",
    "            loss = criterion(outputs, labels)\n",
    "            loss.backward()\n",
    "            optimizer.step()\n",
    "    correct_train = 0\n",
    "    total_train = 0\n",
    "    with torch.no_grad():\n",
    "        for data in trainloader:\n",
    "            images, labels = data\n",
    "            outputs = net(images)\n",
    "            _, predicted = torch.max(outputs.data, 1)\n",
    "            total_train += labels.size(0)\n",
    "            correct_train += (predicted == labels).sum().item()\n",
    "    accuracy_train = correct_train / total_train\n",
    "    return accuracy_train\n",
    "study = opt.create_study(direction='maximize') \n",
    "study.optimize(objective_train, n_trials=3)\n",
    "print('Number of trials: ', len(study.trials))\n",
    "print('Best trial:')\n",
    "trial = study.best_trial\n",
    "print(f'Value: {trial.value}')\n",
    "print('Params: ')\n",
    "for key, value in trial.params.items():\n",
    "    print('\\t{}: {}'.format(key, value))\n",
    "\n",
    "print(f'Best accuracy: {study.best_value * 100}')"
   ]
  },
  {
   "cell_type": "markdown",
   "metadata": {},
   "source": []
  },
  {
   "cell_type": "markdown",
   "metadata": {},
   "source": [
    "Calculating accuracy on Test dataset"
   ]
  },
  {
   "cell_type": "code",
   "execution_count": null,
   "metadata": {},
   "outputs": [
    {
     "name": "stderr",
     "output_type": "stream",
     "text": [
      "[I 2023-10-02 23:29:58,704] A new study created in memory with name: no-name-2eb27918-dd81-4313-8476-ae6e9abb32b7\n",
      "[I 2023-10-02 23:31:14,766] Trial 0 finished with value: 0.1461 and parameters: {'fc2_layer_units': 118, 'lr': 3.7727896155202487e-06}. Best is trial 0 with value: 0.1461.\n",
      "[I 2023-10-02 23:32:27,506] Trial 1 finished with value: 0.3913 and parameters: {'fc2_layer_units': 104, 'lr': 0.0004666756028056237}. Best is trial 1 with value: 0.3913.\n",
      "[I 2023-10-02 23:33:38,087] Trial 2 finished with value: 0.0987 and parameters: {'fc2_layer_units': 99, 'lr': 3.02174172469541e-07}. Best is trial 1 with value: 0.3913.\n"
     ]
    },
    {
     "name": "stdout",
     "output_type": "stream",
     "text": [
      "Number of trials:  3\n",
      "Best trial:\n",
      "Value: 0.3913\n",
      "Params: \n",
      "\tfc2_layer_units: 104\n",
      "\tlr: 0.0004666756028056237\n",
      "Best accuracy: 39.129999999999995\n"
     ]
    }
   ],
   "source": [
    "def objective_test(trial):\n",
    "    net = Net(trial)\n",
    "    criterion = nn.CrossEntropyLoss()\n",
    "    optimizer = optim.Adamax(net.parameters(), lr=trial.suggest_float('lr', 1e-7, 1e-1, log=True))\n",
    "    for epoch in range(2):\n",
    "        for i, data in enumerate(trainloader, 0):\n",
    "            inputs, labels = data\n",
    "            optimizer.zero_grad()\n",
    "            outputs = net(inputs)\n",
    "            loss = criterion(outputs, labels)\n",
    "            loss.backward()\n",
    "            optimizer.step()\n",
    "    correct_val = 0\n",
    "    total_val = 0\n",
    "    with torch.no_grad():\n",
    "        for data in testloader:\n",
    "            images, labels = data\n",
    "            outputs = net(images)\n",
    "            _, predicted = torch.max(outputs.data, 1)\n",
    "            total_val += labels.size(0)\n",
    "            correct_val += (predicted == labels).sum().item()\n",
    "    accuracy_test = correct_val / total_val\n",
    "    return accuracy_test\n",
    "study = opt.create_study(direction='maximize') \n",
    "study.optimize(objective_test, n_trials=3)\n",
    "print('Number of trials: ', len(study.trials))\n",
    "print('Best trial:')\n",
    "trial = study.best_trial\n",
    "print(f'Value: {trial.value}')\n",
    "print('Params: ')\n",
    "for key, value in trial.params.items():\n",
    "    print('\\t{}: {}'.format(key, value))\n",
    "print(f'Best accuracy: {study.best_value * 100}')"
   ]
  },
  {
   "cell_type": "code",
   "execution_count": null,
   "metadata": {},
   "outputs": [],
   "source": []
  }
 ],
 "metadata": {
  "kernelspec": {
   "display_name": "base",
   "language": "python",
   "name": "python3"
  },
  "language_info": {
   "name": "python",
   "version": "3.11.4"
  }
 },
 "nbformat": 4,
 "nbformat_minor": 2
}
